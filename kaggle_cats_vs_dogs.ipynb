{
  "nbformat": 4,
  "nbformat_minor": 0,
  "metadata": {
    "colab": {
      "name": "kaggle_cats-vs-dogs.ipynb",
      "provenance": [],
      "private_outputs": true,
      "collapsed_sections": [],
      "include_colab_link": true
    },
    "kernelspec": {
      "name": "python3",
      "display_name": "Python 3"
    },
    "accelerator": "GPU"
  },
  "cells": [
    {
      "cell_type": "markdown",
      "metadata": {
        "id": "view-in-github",
        "colab_type": "text"
      },
      "source": [
        "<a href=\"https://colab.research.google.com/github/celinezhang2019/cats-vs-dogs-image-classification/blob/master/kaggle_cats_vs_dogs.ipynb\" target=\"_parent\"><img src=\"https://colab.research.google.com/assets/colab-badge.svg\" alt=\"Open In Colab\"/></a>"
      ]
    },
    {
      "cell_type": "markdown",
      "metadata": {
        "id": "wP5QAGysQXDj",
        "colab_type": "text"
      },
      "source": [
        "V01\n",
        "\n",
        "First trying the cats-vs-dogs binary classifications"
      ]
    },
    {
      "cell_type": "code",
      "metadata": {
        "id": "d6N3GHbeRQaI",
        "colab_type": "code",
        "colab": {}
      },
      "source": [
        "from google.colab import drive\n",
        "drive.mount('/content/drive')"
      ],
      "execution_count": 0,
      "outputs": []
    },
    {
      "cell_type": "code",
      "metadata": {
        "id": "Vzh9WOjnS4SO",
        "colab_type": "code",
        "colab": {}
      },
      "source": [
        "# 配置好kaggle json\n",
        "\n",
        "from google.colab import files\n",
        "files.upload()"
      ],
      "execution_count": 0,
      "outputs": []
    },
    {
      "cell_type": "code",
      "metadata": {
        "id": "R9GCWXoTTJri",
        "colab_type": "code",
        "colab": {}
      },
      "source": [
        "# 建立kaggle文件夹\n",
        "\n",
        "!mkdir -p ~/.kaggle\n",
        "\n",
        "!cp kaggle.json ~/.kaggle/\n",
        "\n",
        "!chmod 600 ~/.kaggle/kaggle.json"
      ],
      "execution_count": 0,
      "outputs": []
    },
    {
      "cell_type": "code",
      "metadata": {
        "id": "xlrEoPO1SH-B",
        "colab_type": "code",
        "colab": {}
      },
      "source": [
        "# 建立猫狗文件夹\n",
        "\n",
        "import os\n",
        "# os.mkdir('/content/drive/My Drive/Colab Notebooks/cats-vs-dogs')"
      ],
      "execution_count": 0,
      "outputs": []
    },
    {
      "cell_type": "code",
      "metadata": {
        "id": "LFuRWzo5QVdv",
        "colab_type": "code",
        "colab": {}
      },
      "source": [
        "# 1) 直接从kaggle下载猫狗数据集\n",
        "\n",
        "# !kaggle competitions download -c dogs-vs-cats -p '../content/drive/My Drive/Colab Notebooks/cats-vs-dogs'\n",
        "\n"
      ],
      "execution_count": 0,
      "outputs": []
    },
    {
      "cell_type": "code",
      "metadata": {
        "id": "EtGah9i-QWlJ",
        "colab_type": "code",
        "colab": {}
      },
      "source": [
        "# 2） 由于刚刚下载的文件是zip文件，所以解压操作：\n",
        "\n",
        "# !unzip -n '/content/drive/My Drive/Colab Notebooks/cats-vs-dogs/train.zip' -d '../content/drive/My Drive/Colab Notebooks/cats-vs-dogs'\n",
        "\n",
        "# !unzip -n '/content/drive/My Drive/Colab Notebooks/cats-vs-dogs/test1.zip' -d '../content/drive/My Drive/Colab Notebooks/cats-vs-dogs'"
      ],
      "execution_count": 0,
      "outputs": []
    },
    {
      "cell_type": "code",
      "metadata": {
        "id": "W5_q3Vx9T1zI",
        "colab_type": "code",
        "colab": {}
      },
      "source": [
        "# PART-2: Building model\n",
        "\n",
        "import os\n",
        "import zipfile\n",
        "import random\n",
        "import tensorflow as tf\n",
        "from tensorflow.keras.optimizers import RMSprop\n",
        "from tensorflow.keras.preprocessing.image import ImageDataGenerator\n",
        "from shutil import copyfile"
      ],
      "execution_count": 0,
      "outputs": []
    },
    {
      "cell_type": "code",
      "metadata": {
        "id": "rP6PvX8eT24B",
        "colab_type": "code",
        "colab": {}
      },
      "source": [
        "print(len(os.listdir('../content/drive/My Drive/Colab Notebooks/cats-vs-dogs/train/')))\n",
        "print(len(os.listdir('../content/drive/My Drive/Colab Notebooks/cats-vs-dogs/test1/')))"
      ],
      "execution_count": 0,
      "outputs": []
    },
    {
      "cell_type": "code",
      "metadata": {
        "id": "yiNerUkXfNEF",
        "colab_type": "code",
        "colab": {}
      },
      "source": [
        "import numpy as np\n",
        "import pandas as pd\n",
        "from keras.preprocessing.image import ImageDataGenerator, load_img\n",
        "from keras.utils import to_categorical\n",
        "from sklearn.model_selection import train_test_split\n",
        "import matplotlib.pyplot as plt"
      ],
      "execution_count": 0,
      "outputs": []
    },
    {
      "cell_type": "code",
      "metadata": {
        "id": "e-RXTaW1T22J",
        "colab_type": "code",
        "colab": {}
      },
      "source": [
        "# 给所有的图片加标签\n",
        "\n",
        "filenames = os.listdir('../content/drive/My Drive/Colab Notebooks/cats-vs-dogs/train/') # 25000 training images\n",
        "categories = []\n",
        "for filename in filenames:\n",
        "    category = filename.split('.')[0]\n",
        "    if category == 'dog':\n",
        "        categories.append(1)\n",
        "    else:\n",
        "        categories.append(0)\n",
        "  \n",
        "df = pd.DataFrame({\n",
        "    'filename':filenames,\n",
        "    'category':categories    \n",
        "})"
      ],
      "execution_count": 0,
      "outputs": []
    },
    {
      "cell_type": "code",
      "metadata": {
        "id": "CnmnoiH9T20G",
        "colab_type": "code",
        "colab": {}
      },
      "source": [
        "df.head()"
      ],
      "execution_count": 0,
      "outputs": []
    },
    {
      "cell_type": "code",
      "metadata": {
        "id": "5p_kF2IdT2yU",
        "colab_type": "code",
        "colab": {}
      },
      "source": [
        "df.tail()"
      ],
      "execution_count": 0,
      "outputs": []
    },
    {
      "cell_type": "code",
      "metadata": {
        "id": "lF5zTSKBT2wm",
        "colab_type": "code",
        "colab": {}
      },
      "source": [
        "# See Total in count\n",
        "\n",
        "df['category'].value_counts().plot.bar()"
      ],
      "execution_count": 0,
      "outputs": []
    },
    {
      "cell_type": "code",
      "metadata": {
        "id": "5bsH8sMtT2up",
        "colab_type": "code",
        "colab": {}
      },
      "source": [
        "# See sample image\n",
        "\n",
        "sample = random.choice(filenames)\n",
        "image = load_img('../content/drive/My Drive/Colab Notebooks/cats-vs-dogs/train/'+sample)\n",
        "plt.imshow(image)"
      ],
      "execution_count": 0,
      "outputs": []
    },
    {
      "cell_type": "code",
      "metadata": {
        "id": "xF7ghlz4T2qI",
        "colab_type": "code",
        "colab": {}
      },
      "source": [
        "# modeling\n",
        "\n",
        "FAST_RUN = False\n",
        "IMAGE_WIDTH=128\n",
        "IMAGE_HEIGHT=128\n",
        "IMAGE_SIZE=(IMAGE_WIDTH, IMAGE_HEIGHT)\n",
        "IMAGE_CHANNELS=3\n",
        "\n",
        "from keras.models import Sequential\n",
        "from keras.layers import Conv2D, MaxPooling2D, Dropout, Flatten, Dense, Activation, BatchNormalization\n",
        "\n",
        "model = Sequential()\n",
        "\n",
        "model.add(Conv2D(16, (3, 3), activation='relu', input_shape=(100,75, IMAGE_CHANNELS)))\n",
        "model.add(MaxPooling2D(pool_size=(2, 2)))\n",
        "\n",
        "\n",
        "model.add(Conv2D(32, (3, 3), activation='relu'))\n",
        "model.add(MaxPooling2D(pool_size=(2, 2)))\n",
        "model.add(Dropout(0.25))\n",
        "\n",
        "model.add(Conv2D(64, (3, 3), activation='relu'))\n",
        "model.add(BatchNormalization())\n",
        "model.add(MaxPooling2D(pool_size=(2, 2)))\n",
        "\n",
        "model.add(Flatten())\n",
        "model.add(Dense(128, activation='relu'))\n",
        "model.add(BatchNormalization())\n",
        "model.add(Dropout(0.5))\n",
        "model.add(Dense(2, activation='softmax')) # 2 because we have cat and dog classes\n",
        "\n",
        "model.compile(loss='categorical_crossentropy', optimizer='rmsprop', metrics=['accuracy'])\n",
        "\n",
        "model.summary()"
      ],
      "execution_count": 0,
      "outputs": []
    },
    {
      "cell_type": "markdown",
      "metadata": {
        "id": "t-_qNPy5jzfs",
        "colab_type": "text"
      },
      "source": [
        ""
      ]
    },
    {
      "cell_type": "code",
      "metadata": {
        "id": "rJhBe20UT2d-",
        "colab_type": "code",
        "colab": {}
      },
      "source": [
        "from keras.callbacks import EarlyStopping, ReduceLROnPlateau"
      ],
      "execution_count": 0,
      "outputs": []
    },
    {
      "cell_type": "code",
      "metadata": {
        "id": "1gFnNi46gcUU",
        "colab_type": "code",
        "colab": {}
      },
      "source": [
        "earlystop = EarlyStopping(patience=10)"
      ],
      "execution_count": 0,
      "outputs": []
    },
    {
      "cell_type": "code",
      "metadata": {
        "id": "sNCXNjRrgcKa",
        "colab_type": "code",
        "colab": {}
      },
      "source": [
        "learning_rate_reduction = ReduceLROnPlateau(monitor='val_acc', \n",
        "                                            patience=2, \n",
        "                                            verbose=1, \n",
        "                                            factor=0.5, \n",
        "                                            min_lr=0.00001)\n"
      ],
      "execution_count": 0,
      "outputs": []
    },
    {
      "cell_type": "code",
      "metadata": {
        "id": "BP1nAbrGgcH9",
        "colab_type": "code",
        "colab": {}
      },
      "source": [
        "callbacks = [earlystop, learning_rate_reduction]"
      ],
      "execution_count": 0,
      "outputs": []
    },
    {
      "cell_type": "code",
      "metadata": {
        "id": "1bZMdFL0gcFr",
        "colab_type": "code",
        "colab": {}
      },
      "source": [
        "df[\"category\"] = df[\"category\"].replace({0: 'cat', 1: 'dog'}) "
      ],
      "execution_count": 0,
      "outputs": []
    },
    {
      "cell_type": "code",
      "metadata": {
        "id": "ZxDkZ_b4gcDQ",
        "colab_type": "code",
        "colab": {}
      },
      "source": [
        "train_df, validate_df = train_test_split(df, test_size=0.20, random_state=42)\n",
        "train_df = train_df.reset_index(drop=True)\n",
        "validate_df = validate_df.reset_index(drop=True)"
      ],
      "execution_count": 0,
      "outputs": []
    },
    {
      "cell_type": "code",
      "metadata": {
        "id": "DUBQYUhQgb57",
        "colab_type": "code",
        "colab": {}
      },
      "source": [
        "train_df['category'].value_counts().plot.bar()\n"
      ],
      "execution_count": 0,
      "outputs": []
    },
    {
      "cell_type": "code",
      "metadata": {
        "id": "WuHeI2YeLOmc",
        "colab_type": "code",
        "colab": {}
      },
      "source": [
        "validate_df['category'].value_counts().plot.bar()"
      ],
      "execution_count": 0,
      "outputs": []
    },
    {
      "cell_type": "code",
      "metadata": {
        "id": "V_vkKDTqLOli",
        "colab_type": "code",
        "colab": {}
      },
      "source": [
        "total_train = train_df.shape[0]\n",
        "total_validate = validate_df.shape[0]\n",
        "batch_size=10"
      ],
      "execution_count": 0,
      "outputs": []
    },
    {
      "cell_type": "code",
      "metadata": {
        "id": "jGhxhXDsLOkx",
        "colab_type": "code",
        "colab": {}
      },
      "source": [
        "train_datagen = ImageDataGenerator(\n",
        "    rotation_range=15,\n",
        "    rescale=1./255,\n",
        "    shear_range=0.1,\n",
        "    zoom_range=0.2,\n",
        "    horizontal_flip=True,\n",
        "    width_shift_range=0.1,\n",
        "    height_shift_range=0.1\n",
        ")"
      ],
      "execution_count": 0,
      "outputs": []
    },
    {
      "cell_type": "code",
      "metadata": {
        "id": "FkzVDjf7LOjy",
        "colab_type": "code",
        "colab": {}
      },
      "source": [
        "train_generator = train_datagen.flow_from_dataframe(\n",
        "    train_df, \n",
        "    \"../content/drive/My Drive/Colab Notebooks/cats-vs-dogs/train/\", \n",
        "    x_col='filename',\n",
        "    y_col='category',\n",
        "    target_size=(100,75),\n",
        "    class_mode='categorical',\n",
        "    batch_size=batch_size\n",
        ")"
      ],
      "execution_count": 0,
      "outputs": []
    },
    {
      "cell_type": "code",
      "metadata": {
        "id": "tqE5_cazLOjC",
        "colab_type": "code",
        "colab": {}
      },
      "source": [
        "validation_datagen = ImageDataGenerator(rescale=1./255)\n",
        "validation_generator = validation_datagen.flow_from_dataframe(\n",
        "    validate_df, \n",
        "    \"../content/drive/My Drive/Colab Notebooks/cats-vs-dogs/train/\", \n",
        "    x_col='filename',\n",
        "    y_col='category',\n",
        "    target_size=(100,75),\n",
        "    class_mode='categorical',\n",
        "    batch_size=batch_size\n",
        ")"
      ],
      "execution_count": 0,
      "outputs": []
    },
    {
      "cell_type": "code",
      "metadata": {
        "id": "jT-9atsmLOiO",
        "colab_type": "code",
        "colab": {}
      },
      "source": [
        "example_df = train_df.sample(n=1).reset_index(drop=True)\n",
        "example_generator = train_datagen.flow_from_dataframe(\n",
        "    example_df, \n",
        "    \"../content/drive/My Drive/Colab Notebooks/cats-vs-dogs/train/\", \n",
        "    x_col='filename',\n",
        "    y_col='category',\n",
        "    target_size=(100,75),\n",
        "    class_mode='categorical'\n",
        ")"
      ],
      "execution_count": 0,
      "outputs": []
    },
    {
      "cell_type": "code",
      "metadata": {
        "id": "fnBPwbacLOhd",
        "colab_type": "code",
        "colab": {}
      },
      "source": [
        "plt.figure(figsize=(12, 12))\n",
        "for i in range(0, 15):\n",
        "    plt.subplot(5, 3, i+1)\n",
        "    for X_batch, Y_batch in example_generator:\n",
        "        image = X_batch[0]\n",
        "        plt.imshow(image)\n",
        "        break\n",
        "plt.tight_layout()\n",
        "plt.show()\n"
      ],
      "execution_count": 0,
      "outputs": []
    },
    {
      "cell_type": "code",
      "metadata": {
        "id": "osEFm5FVLOgq",
        "colab_type": "code",
        "colab": {}
      },
      "source": [
        "epochs=3 if FAST_RUN else 15\n",
        "history = model.fit_generator(\n",
        "    train_generator, \n",
        "    epochs=epochs,\n",
        "    validation_data=validation_generator,\n",
        "    validation_steps=total_validate//batch_size,\n",
        "    steps_per_epoch=total_train//batch_size,\n",
        "    callbacks=callbacks\n",
        ")"
      ],
      "execution_count": 0,
      "outputs": []
    },
    {
      "cell_type": "code",
      "metadata": {
        "id": "JMCgsskULOWy",
        "colab_type": "code",
        "colab": {}
      },
      "source": [
        "model.save_weights(\"../content/drive/My Drive/Colab Notebooks/cats-vs-dogs/model_catdog02_15epoch.h5\")"
      ],
      "execution_count": 0,
      "outputs": []
    },
    {
      "cell_type": "code",
      "metadata": {
        "id": "rQpHQKYaLOU0",
        "colab_type": "code",
        "colab": {}
      },
      "source": [
        "fig, (ax1, ax2) = plt.subplots(2, 1, figsize=(12, 12))\n",
        "ax1.plot(history.history['loss'], color='b', label=\"Training loss\")\n",
        "ax1.plot(history.history['val_loss'], color='r', label=\"validation loss\")\n",
        "ax1.set_xticks(np.arange(1, epochs, 1))\n",
        "ax1.set_yticks(np.arange(0, 1, 0.1))\n",
        "\n",
        "ax2.plot(history.history['acc'], color='b', label=\"Training accuracy\")\n",
        "ax2.plot(history.history['val_acc'], color='r',label=\"Validation accuracy\")\n",
        "ax2.set_xticks(np.arange(1, epochs, 1))\n",
        "\n",
        "legend = plt.legend(loc='best', shadow=True)\n",
        "plt.tight_layout()\n",
        "plt.show()"
      ],
      "execution_count": 0,
      "outputs": []
    },
    {
      "cell_type": "markdown",
      "metadata": {
        "id": "dTLA45v9umeF",
        "colab_type": "text"
      },
      "source": [
        "#### Prepare Testing Data"
      ]
    },
    {
      "cell_type": "code",
      "metadata": {
        "id": "OyvOweBFLORw",
        "colab_type": "code",
        "colab": {}
      },
      "source": [
        "test_filenames = os.listdir(\"../content/drive/My Drive/Colab Notebooks/cats-vs-dogs/test1\")\n",
        "test_df = pd.DataFrame({\n",
        "    'filename':test_filenames\n",
        "})\n",
        "nb_samples = test_df.shape[0]"
      ],
      "execution_count": 0,
      "outputs": []
    },
    {
      "cell_type": "markdown",
      "metadata": {
        "id": "2OZiOfztvGim",
        "colab_type": "text"
      },
      "source": [
        "### Create Testing Generator"
      ]
    },
    {
      "cell_type": "code",
      "metadata": {
        "id": "zQc_xGLhLOJh",
        "colab_type": "code",
        "colab": {}
      },
      "source": [
        "test_gen = ImageDataGenerator(rescale=1./255)\n",
        "test_generator = test_gen.flow_from_dataframe(\n",
        "    test_df,\n",
        "    \"../content/drive/My Drive/Colab Notebooks/cats-vs-dogs/test1/\",\n",
        "    x_col = 'filename',\n",
        "    y_col = None,\n",
        "    class_mode = None,\n",
        "    target_size = (100,75), # expected conv2d_4_input to have shape (100, 75, 3) but got array with shape (128, 128, 3)\n",
        "    batch_size = batch_size,\n",
        "    shuffle=False\n",
        ")"
      ],
      "execution_count": 0,
      "outputs": []
    },
    {
      "cell_type": "markdown",
      "metadata": {
        "id": "58xyhfMEvgrU",
        "colab_type": "text"
      },
      "source": [
        "### Predict"
      ]
    },
    {
      "cell_type": "code",
      "metadata": {
        "id": "ttgs6niYLN7P",
        "colab_type": "code",
        "colab": {}
      },
      "source": [
        "predict = model.predict_generator(test_generator, steps= np.ceil(nb_samples/batch_size))"
      ],
      "execution_count": 0,
      "outputs": []
    },
    {
      "cell_type": "code",
      "metadata": {
        "id": "7sPYG8HdukxN",
        "colab_type": "code",
        "colab": {}
      },
      "source": [
        "test_df['category'] = np.argmax(predict, axis=-1)"
      ],
      "execution_count": 0,
      "outputs": []
    },
    {
      "cell_type": "code",
      "metadata": {
        "id": "fQ85b2D3ukvb",
        "colab_type": "code",
        "colab": {}
      },
      "source": [
        "label_map = dict((v,k) for k,v in train_generator.class_indices.items())\n",
        "test_df['category'] = test_df['category'].replace(label_map)"
      ],
      "execution_count": 0,
      "outputs": []
    },
    {
      "cell_type": "code",
      "metadata": {
        "id": "x33tWzSeuktn",
        "colab_type": "code",
        "colab": {}
      },
      "source": [
        "test_df['category'] = test_df['category'].replace({'dog':1, 'cat':0})"
      ],
      "execution_count": 0,
      "outputs": []
    },
    {
      "cell_type": "markdown",
      "metadata": {
        "id": "rad1mUO8xt63",
        "colab_type": "text"
      },
      "source": [
        "### Virtualize Result"
      ]
    },
    {
      "cell_type": "code",
      "metadata": {
        "id": "4H98nQB8ukrj",
        "colab_type": "code",
        "colab": {}
      },
      "source": [
        "test_df['category'].value_counts().plot.bar()"
      ],
      "execution_count": 0,
      "outputs": []
    },
    {
      "cell_type": "markdown",
      "metadata": {
        "id": "lB69Bs4Jx4oS",
        "colab_type": "text"
      },
      "source": [
        "### See predicted results with images"
      ]
    },
    {
      "cell_type": "code",
      "metadata": {
        "id": "-hXcSDx1ukpy",
        "colab_type": "code",
        "colab": {}
      },
      "source": [
        "sample_test = test_df.head(18)\n",
        "sample_test.head()\n",
        "plt.figure(figsize=(12, 24))\n",
        "for index, row in sample_test.iterrows():\n",
        "    filename = row['filename']\n",
        "    category = row['category']\n",
        "    img = load_img(\"../content/drive/My Drive/Colab Notebooks/cats-vs-dogs/test1/\"+filename, target_size=IMAGE_SIZE)\n",
        "    plt.subplot(6, 3, index+1)\n",
        "    plt.imshow(img)\n",
        "    plt.xlabel(filename + '(' + \"{}\".format(category) + ')' )\n",
        "plt.tight_layout()\n",
        "plt.show()"
      ],
      "execution_count": 0,
      "outputs": []
    },
    {
      "cell_type": "code",
      "metadata": {
        "id": "NPUdWQkJuknz",
        "colab_type": "code",
        "colab": {}
      },
      "source": [
        "submission_df = test_df.copy()\n",
        "submission_df['id'] = submission_df['filename'].str.split('.').str[0]\n",
        "submission_df['label'] = submission_df['category']\n",
        "submission_df.drop(['filename', 'category'], axis=1, inplace=True)\n",
        "submission_df.to_csv('../content/drive/My Drive/Colab Notebooks/cats-vs-dogs/submission923.csv', index=False)"
      ],
      "execution_count": 0,
      "outputs": []
    },
    {
      "cell_type": "code",
      "metadata": {
        "id": "aOw_Q__fukkL",
        "colab_type": "code",
        "colab": {}
      },
      "source": [
        "test_df.shape"
      ],
      "execution_count": 0,
      "outputs": []
    },
    {
      "cell_type": "code",
      "metadata": {
        "id": "RYJU6AqGwPL1",
        "colab_type": "code",
        "colab": {}
      },
      "source": [
        ""
      ],
      "execution_count": 0,
      "outputs": []
    },
    {
      "cell_type": "code",
      "metadata": {
        "id": "TJ4OzTjhukfg",
        "colab_type": "code",
        "colab": {}
      },
      "source": [
        ""
      ],
      "execution_count": 0,
      "outputs": []
    },
    {
      "cell_type": "code",
      "metadata": {
        "id": "qBR3b5EFukbF",
        "colab_type": "code",
        "colab": {}
      },
      "source": [
        ""
      ],
      "execution_count": 0,
      "outputs": []
    }
  ]
}